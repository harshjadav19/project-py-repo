{
  "nbformat": 4,
  "nbformat_minor": 0,
  "metadata": {
    "colab": {
      "provenance": [],
      "include_colab_link": true
    },
    "kernelspec": {
      "name": "python3",
      "display_name": "Python 3"
    },
    "language_info": {
      "name": "python"
    }
  },
  "cells": [
    {
      "cell_type": "markdown",
      "metadata": {
        "id": "view-in-github",
        "colab_type": "text"
      },
      "source": [
        "<a href=\"https://colab.research.google.com/github/harshjadav19/project-py-repo/blob/main/Untitles.ipynb\" target=\"_parent\"><img src=\"https://colab.research.google.com/assets/colab-badge.svg\" alt=\"Open In Colab\"/></a>"
      ]
    },
    {
      "cell_type": "code",
      "source": [
        "!git --version  # Check if git is already installed\n"
      ],
      "metadata": {
        "colab": {
          "base_uri": "https://localhost:8080/"
        },
        "id": "5T7P79ZUzG-h",
        "outputId": "e9e1fd48-d591-4a76-c178-1340c78cae36"
      },
      "execution_count": null,
      "outputs": [
        {
          "output_type": "stream",
          "name": "stdout",
          "text": [
            "git version 2.34.1\n"
          ]
        }
      ]
    },
    {
      "cell_type": "code",
      "source": [
        "!apt-get install git\n"
      ],
      "metadata": {
        "colab": {
          "base_uri": "https://localhost:8080/"
        },
        "id": "uZqtgQgZzGzF",
        "outputId": "51581ac3-ea7f-4a47-cdf7-89914e8c7b0c"
      },
      "execution_count": null,
      "outputs": [
        {
          "output_type": "stream",
          "name": "stdout",
          "text": [
            "Reading package lists... Done\n",
            "Building dependency tree... Done\n",
            "Reading state information... Done\n",
            "git is already the newest version (1:2.34.1-1ubuntu1.12).\n",
            "0 upgraded, 0 newly installed, 0 to remove and 30 not upgraded.\n"
          ]
        }
      ]
    },
    {
      "cell_type": "code",
      "source": [
        "!git config --global user.email \"jadhaoha2004@gmail.com\"\n",
        "!git config --global user.name \"harshjadav19\"\n"
      ],
      "metadata": {
        "id": "xb6Aw5YXzGob"
      },
      "execution_count": null,
      "outputs": []
    },
    {
      "cell_type": "code",
      "source": [
        "!git clone https://github.com/harshjadav19/pro-py-repo.git\n",
        "%cd pro-py-repo\n"
      ],
      "metadata": {
        "id": "OFIGVnd6zGa_",
        "colab": {
          "base_uri": "https://localhost:8080/"
        },
        "outputId": "18dac6b7-c113-4e62-93fa-9b261224ded8"
      },
      "execution_count": null,
      "outputs": [
        {
          "output_type": "stream",
          "name": "stdout",
          "text": [
            "Cloning into 'pro-py-repo'...\n",
            "warning: You appear to have cloned an empty repository.\n",
            "/content/project-py-repo/project-py-repo/pro-py-repo\n"
          ]
        }
      ]
    },
    {
      "cell_type": "code",
      "source": [
        "with open(\"password_checker.ipynb\", \"w\") as f:\n",
        "    f.write(\"This is a test file from Google Colab.\")\n"
      ],
      "metadata": {
        "id": "y0OLwbgOzzQN"
      },
      "execution_count": null,
      "outputs": []
    },
    {
      "cell_type": "code",
      "source": [
        "!git add .\n",
        "!git commit -m \"Add password_checker.ipynb from Google Colab\"\n",
        "!git push origin main  # or master, depending on your branch name\n"
      ],
      "metadata": {
        "colab": {
          "base_uri": "https://localhost:8080/"
        },
        "id": "9X-LPXkpzzGz",
        "outputId": "0e6f9928-060b-4e1a-f375-aa34159ca10f"
      },
      "execution_count": null,
      "outputs": [
        {
          "output_type": "stream",
          "name": "stdout",
          "text": [
            "[main (root-commit) cef8939] Add password_checker.ipynb from Google Colab\n",
            " 1 file changed, 1 insertion(+)\n",
            " create mode 100644 password_checker.ipynb\n",
            "fatal: could not read Username for 'https://github.com': No such device or address\n"
          ]
        }
      ]
    },
    {
      "cell_type": "code",
      "source": [
        "!git clone https://github.com/harshjadav19/pro-py-repo.git\n"
      ],
      "metadata": {
        "colab": {
          "base_uri": "https://localhost:8080/"
        },
        "id": "ijx8oJuqzy6A",
        "outputId": "2deb063b-2626-41a9-f5f2-486ed58a2eb0"
      },
      "execution_count": null,
      "outputs": [
        {
          "output_type": "stream",
          "name": "stdout",
          "text": [
            "Cloning into 'pro-py-repo'...\n",
            "warning: You appear to have cloned an empty repository.\n"
          ]
        }
      ]
    },
    {
      "cell_type": "code",
      "source": [
        "!git remote add origin https://github.com/harshjadav19/pro-py-repo.git\n",
        "!git branch -M main\n",
        "!git push -u origin main"
      ],
      "metadata": {
        "colab": {
          "base_uri": "https://localhost:8080/"
        },
        "id": "p3OV5wD423JB",
        "outputId": "23710ceb-eb2e-4e98-bba1-90701fa6b9ca"
      },
      "execution_count": null,
      "outputs": [
        {
          "output_type": "stream",
          "name": "stdout",
          "text": [
            "error: remote origin already exists.\n",
            "fatal: could not read Username for 'https://github.com': No such device or address\n"
          ]
        }
      ]
    },
    {
      "cell_type": "code",
      "source": [
        "import re\n",
        "import getpass  # To hide the password input\n",
        "\n",
        "# 🔁 Extended Common Passwords List (Top 1000+ commonly used passwords for simplicity)\n",
        "common_passwords = [\n",
        "    \"123456\", \"password\", \"123456789\", \"qwerty\", \"abc123\", \"football\", \"123123\", \"admin\",\n",
        "    \"welcome\", \"monkey\", \"login\", \"passw0rd\", \"1234\", \"111111\", \"1q2w3e4r\", \"123qwe\", \"dragon\",\n",
        "    \"sunshine\", \"letmein\", \"batman\", \"trustno1\", \"hello\", \"freedom\", \"whatever\", \"qazwsx\",\n",
        "    \"mustang\", \"baseball\", \"superman\", \"iloveyou\", \"starwars\", \"shadow\", \"cheese\", \"696969\",\n",
        "    \"snoopy\", \"flower\", \"matrix\", \"michelle\", \"ashley\", \"jordan\", \"pepper\", \"access\",\n",
        "    \"donald\", \"pokemon\", \"winter2024\", \"hunter2\", \"tigger\", \"naruto\", \"cookie\", \"master\",\n",
        "    \"12345\", \"letmein123\", \"123qwe\", \"qwertyuiop\", \"admin123\", \"1qaz2wsx\", \"football123\",\n",
        "    \"sunshine123\", \"hello123\", \"superman123\", \"password1\", \"abc12345\", \"1qazxsw2\", \"letmein1\",\n",
        "    # Add other common passwords (or load from an external file for a bigger list)\n",
        "]\n",
        "\n",
        "# 🔍 Password Strength Logic\n",
        "def check_strength(password, purpose, common_passwords):\n",
        "    score = 0\n",
        "    suggestions = []\n",
        "\n",
        "    # Length\n",
        "    if len(password) >= 12:\n",
        "        score += 2\n",
        "    elif len(password) >= 8:\n",
        "        score += 1\n",
        "    else:\n",
        "        suggestions.append(\"Use at least 12 characters.\")\n",
        "\n",
        "    # Lowercase\n",
        "    if re.search(r'[a-z]', password):\n",
        "        score += 1\n",
        "    else:\n",
        "        suggestions.append(\"Add lowercase letters.\")\n",
        "\n",
        "    # Uppercase\n",
        "    if re.search(r'[A-Z]', password):\n",
        "        score += 1\n",
        "    else:\n",
        "        suggestions.append(\"Add uppercase letters.\")\n",
        "\n",
        "    # Digit\n",
        "    if re.search(r'[0-9]', password):\n",
        "        score += 1\n",
        "    else:\n",
        "        suggestions.append(\"Include numbers (0-9).\")\n",
        "\n",
        "    # Symbol\n",
        "    if re.search(r'[^a-zA-Z0-9]', password):\n",
        "        score += 1\n",
        "    else:\n",
        "        suggestions.append(\"Add special characters like @, #, $, etc.\")\n",
        "\n",
        "    # Repetition\n",
        "    if not re.search(r'(.)\\1\\1', password):\n",
        "        score += 1\n",
        "    else:\n",
        "        suggestions.append(\"Avoid repeated characters like 'aaa'.\")\n",
        "\n",
        "    # Common Password Check\n",
        "    if password.lower() not in common_passwords:\n",
        "        score += 2\n",
        "    else:\n",
        "        suggestions.append(\"Avoid common or leaked passwords.\")\n",
        "\n",
        "    # Purpose-sensitive bonus (for each platform)\n",
        "    if purpose.lower() in [\"banking\", \"finance\", \"email\"]:\n",
        "        if len(password) >= 16 and re.search(r'[A-Z]', password) and re.search(r'[^a-zA-Z0-9]', password):\n",
        "            score += 1\n",
        "        else:\n",
        "            suggestions.append(\"Use at least 16 characters with special chars for critical accounts.\")\n",
        "\n",
        "    # Platform-Specific Suggestions\n",
        "    platform_specific_suggestions(purpose, password, suggestions)\n",
        "\n",
        "    # Final Decision\n",
        "    complexity_score = score\n",
        "    if complexity_score >= 8:\n",
        "        strength = \"🔒 Strong\"\n",
        "    elif complexity_score >= 5:\n",
        "        strength = \"🟡 Moderate\"\n",
        "    else:\n",
        "        strength = \"🔓 Weak\"\n",
        "\n",
        "    return strength, suggestions, complexity_score\n",
        "\n",
        "def platform_specific_suggestions(purpose, password, suggestions):\n",
        "    \"\"\" Add suggestions based on the platform \"\"\"\n",
        "    if purpose.lower() == \"instagram\":\n",
        "        if len(password) < 12:\n",
        "            suggestions.append(\"For Instagram, it's better to have at least 12 characters.\")\n",
        "        if not re.search(r'[A-Z]', password):\n",
        "            suggestions.append(\"Instagram accounts benefit from having uppercase letters in the password.\")\n",
        "\n",
        "    if purpose.lower() == \"youtube\":\n",
        "        if len(password) < 12:\n",
        "            suggestions.append(\"YouTube accounts should have a minimum of 12 characters.\")\n",
        "        if not re.search(r'[^a-zA-Z0-9]', password):\n",
        "            suggestions.append(\"Add a special character for YouTube to enhance security.\")\n",
        "\n",
        "    if purpose.lower() == \"whatsapp\":\n",
        "        if len(password) < 10:\n",
        "            suggestions.append(\"For WhatsApp, use at least 10 characters for better security.\")\n",
        "        if not re.search(r'[A-Z]', password):\n",
        "            suggestions.append(\"Include at least one uppercase letter for WhatsApp.\")\n",
        "\n",
        "    if purpose.lower() == \"snapchat\":\n",
        "        if len(password) < 12:\n",
        "            suggestions.append(\"Snapchat accounts should have at least 12 characters.\")\n",
        "        if re.search(r'\\s', password):\n",
        "            suggestions.append(\"Avoid spaces in your Snapchat password.\")\n",
        "\n",
        "    if purpose.lower() == \"social media\":\n",
        "        if len(password) < 10:\n",
        "            suggestions.append(\"For general social media accounts, use at least 10 characters.\")\n",
        "\n",
        "# 🏁 Start Here\n",
        "def main():\n",
        "    print(\"\\n🔐 Welcome to Advanced Password Strength Checker\\n\")\n",
        "\n",
        "    print(\"🧭 What are you setting the password for?\")\n",
        "    print(\"1. Instagram\")\n",
        "    print(\"2. YouTube\")\n",
        "    print(\"3. WhatsApp\")\n",
        "    print(\"4. Snapchat\")\n",
        "    print(\"5. Social Media (General)\")\n",
        "    print(\"6. Email\")\n",
        "    print(\"7. Banking / Finance\")\n",
        "    print(\"8. Other\")\n",
        "\n",
        "    option = input(\"Enter choice (1-8): \").strip()\n",
        "\n",
        "    purposes = {\n",
        "        \"1\": \"Instagram\",\n",
        "        \"2\": \"YouTube\",\n",
        "        \"3\": \"WhatsApp\",\n",
        "        \"4\": \"Snapchat\",\n",
        "        \"5\": \"Social Media\",\n",
        "        \"6\": \"Email\",\n",
        "        \"7\": \"Banking\",\n",
        "        \"8\": \"Other\"\n",
        "    }\n",
        "\n",
        "    purpose = purposes.get(option, \"Other\")\n",
        "\n",
        "    # Ask user if they want to see the password\n",
        "    show_password = input(\"\\nDo you want to see the password as you type? (y/n): \").strip().lower()\n",
        "\n",
        "    # Password input based on user preference\n",
        "    if show_password == 'y':\n",
        "        password = input(f\"🔑 Enter the password for {purpose}: \").strip()\n",
        "    else:\n",
        "        password = getpass.getpass(f\"🔑 Enter the password for {purpose}: \").strip()\n",
        "\n",
        "    strength, suggestions, complexity_score = check_strength(password, purpose, common_passwords)\n",
        "\n",
        "    print(f\"\\n🔎 Password Strength for {purpose}: {strength}\\n\")\n",
        "    print(f\"Complexity Score: {complexity_score}/10\")\n",
        "    if suggestions:\n",
        "        print(\"💡 Suggestions to improve:\")\n",
        "        for tip in suggestions:\n",
        "            print(f\" - {tip}\")\n",
        "    else:\n",
        "        print(\"✅ Your password looks great and secure!\")\n",
        "\n",
        "if __name__ == \"__main__\":\n",
        "    main()\n"
      ],
      "metadata": {
        "colab": {
          "base_uri": "https://localhost:8080/",
          "height": 529
        },
        "id": "qrn_ch1gj1TP",
        "outputId": "907f7a42-0128-46ec-ab75-84a5168ebe3f"
      },
      "execution_count": null,
      "outputs": [
        {
          "output_type": "stream",
          "name": "stdout",
          "text": [
            "\n",
            "🔐 Welcome to Advanced Password Strength Checker\n",
            "\n",
            "🧭 What are you setting the password for?\n",
            "1. Instagram\n",
            "2. YouTube\n",
            "3. WhatsApp\n",
            "4. Snapchat\n",
            "5. Social Media (General)\n",
            "6. Email\n",
            "7. Banking / Finance\n",
            "8. Other\n"
          ]
        },
        {
          "output_type": "error",
          "ename": "KeyboardInterrupt",
          "evalue": "Interrupted by user",
          "traceback": [
            "\u001b[0;31m---------------------------------------------------------------------------\u001b[0m",
            "\u001b[0;31mKeyboardInterrupt\u001b[0m                         Traceback (most recent call last)",
            "\u001b[0;32m<ipython-input-18-ab8a9bb3ee44>\u001b[0m in \u001b[0;36m<cell line: 0>\u001b[0;34m()\u001b[0m\n\u001b[1;32m    165\u001b[0m \u001b[0;34m\u001b[0m\u001b[0m\n\u001b[1;32m    166\u001b[0m \u001b[0;32mif\u001b[0m \u001b[0m__name__\u001b[0m \u001b[0;34m==\u001b[0m \u001b[0;34m\"__main__\"\u001b[0m\u001b[0;34m:\u001b[0m\u001b[0;34m\u001b[0m\u001b[0;34m\u001b[0m\u001b[0m\n\u001b[0;32m--> 167\u001b[0;31m     \u001b[0mmain\u001b[0m\u001b[0;34m(\u001b[0m\u001b[0;34m)\u001b[0m\u001b[0;34m\u001b[0m\u001b[0;34m\u001b[0m\u001b[0m\n\u001b[0m",
            "\u001b[0;32m<ipython-input-18-ab8a9bb3ee44>\u001b[0m in \u001b[0;36mmain\u001b[0;34m()\u001b[0m\n\u001b[1;32m    129\u001b[0m     \u001b[0mprint\u001b[0m\u001b[0;34m(\u001b[0m\u001b[0;34m\"8. Other\"\u001b[0m\u001b[0;34m)\u001b[0m\u001b[0;34m\u001b[0m\u001b[0;34m\u001b[0m\u001b[0m\n\u001b[1;32m    130\u001b[0m \u001b[0;34m\u001b[0m\u001b[0m\n\u001b[0;32m--> 131\u001b[0;31m     \u001b[0moption\u001b[0m \u001b[0;34m=\u001b[0m \u001b[0minput\u001b[0m\u001b[0;34m(\u001b[0m\u001b[0;34m\"Enter choice (1-8): \"\u001b[0m\u001b[0;34m)\u001b[0m\u001b[0;34m.\u001b[0m\u001b[0mstrip\u001b[0m\u001b[0;34m(\u001b[0m\u001b[0;34m)\u001b[0m\u001b[0;34m\u001b[0m\u001b[0;34m\u001b[0m\u001b[0m\n\u001b[0m\u001b[1;32m    132\u001b[0m \u001b[0;34m\u001b[0m\u001b[0m\n\u001b[1;32m    133\u001b[0m     purposes = {\n",
            "\u001b[0;32m/usr/local/lib/python3.11/dist-packages/ipykernel/kernelbase.py\u001b[0m in \u001b[0;36mraw_input\u001b[0;34m(self, prompt)\u001b[0m\n\u001b[1;32m   1175\u001b[0m                 \u001b[0;34m\"raw_input was called, but this frontend does not support input requests.\"\u001b[0m\u001b[0;34m\u001b[0m\u001b[0;34m\u001b[0m\u001b[0m\n\u001b[1;32m   1176\u001b[0m             )\n\u001b[0;32m-> 1177\u001b[0;31m         return self._input_request(\n\u001b[0m\u001b[1;32m   1178\u001b[0m             \u001b[0mstr\u001b[0m\u001b[0;34m(\u001b[0m\u001b[0mprompt\u001b[0m\u001b[0;34m)\u001b[0m\u001b[0;34m,\u001b[0m\u001b[0;34m\u001b[0m\u001b[0;34m\u001b[0m\u001b[0m\n\u001b[1;32m   1179\u001b[0m             \u001b[0mself\u001b[0m\u001b[0;34m.\u001b[0m\u001b[0m_parent_ident\u001b[0m\u001b[0;34m[\u001b[0m\u001b[0;34m\"shell\"\u001b[0m\u001b[0;34m]\u001b[0m\u001b[0;34m,\u001b[0m\u001b[0;34m\u001b[0m\u001b[0;34m\u001b[0m\u001b[0m\n",
            "\u001b[0;32m/usr/local/lib/python3.11/dist-packages/ipykernel/kernelbase.py\u001b[0m in \u001b[0;36m_input_request\u001b[0;34m(self, prompt, ident, parent, password)\u001b[0m\n\u001b[1;32m   1217\u001b[0m             \u001b[0;32mexcept\u001b[0m \u001b[0mKeyboardInterrupt\u001b[0m\u001b[0;34m:\u001b[0m\u001b[0;34m\u001b[0m\u001b[0;34m\u001b[0m\u001b[0m\n\u001b[1;32m   1218\u001b[0m                 \u001b[0;31m# re-raise KeyboardInterrupt, to truncate traceback\u001b[0m\u001b[0;34m\u001b[0m\u001b[0;34m\u001b[0m\u001b[0m\n\u001b[0;32m-> 1219\u001b[0;31m                 \u001b[0;32mraise\u001b[0m \u001b[0mKeyboardInterrupt\u001b[0m\u001b[0;34m(\u001b[0m\u001b[0;34m\"Interrupted by user\"\u001b[0m\u001b[0;34m)\u001b[0m \u001b[0;32mfrom\u001b[0m \u001b[0;32mNone\u001b[0m\u001b[0;34m\u001b[0m\u001b[0;34m\u001b[0m\u001b[0m\n\u001b[0m\u001b[1;32m   1220\u001b[0m             \u001b[0;32mexcept\u001b[0m \u001b[0mException\u001b[0m\u001b[0;34m:\u001b[0m\u001b[0;34m\u001b[0m\u001b[0;34m\u001b[0m\u001b[0m\n\u001b[1;32m   1221\u001b[0m                 \u001b[0mself\u001b[0m\u001b[0;34m.\u001b[0m\u001b[0mlog\u001b[0m\u001b[0;34m.\u001b[0m\u001b[0mwarning\u001b[0m\u001b[0;34m(\u001b[0m\u001b[0;34m\"Invalid Message:\"\u001b[0m\u001b[0;34m,\u001b[0m \u001b[0mexc_info\u001b[0m\u001b[0;34m=\u001b[0m\u001b[0;32mTrue\u001b[0m\u001b[0;34m)\u001b[0m\u001b[0;34m\u001b[0m\u001b[0;34m\u001b[0m\u001b[0m\n",
            "\u001b[0;31mKeyboardInterrupt\u001b[0m: Interrupted by user"
          ]
        }
      ]
    }
  ]
}